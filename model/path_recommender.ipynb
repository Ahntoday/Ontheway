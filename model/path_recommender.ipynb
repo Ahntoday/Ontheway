{
 "cells": [
  {
   "cell_type": "code",
   "execution_count": 7,
   "metadata": {},
   "outputs": [],
   "source": [
    "from queue import PriorityQueue\n",
    "\n",
    "class SSTNode:\n",
    "    def __init__(self, level):\n",
    "        self.level = level\n",
    "        self.path = []\n",
    "        self.bound = 0\n",
    "    \n",
    "    def contains(self, x):\n",
    "        for i in range(len(self.path)):\n",
    "            if (self.path[i]==x):\n",
    "                return True\n",
    "        return False\n",
    "\n",
    "def bound(v, W):\n",
    "    n = len(W) - 1\n",
    "    total = length(v.path, W)\n",
    "    for i in range(1, n + 1):\n",
    "        if (hasOutgoing(i, v.path)):\n",
    "            continue\n",
    "        min = INF\n",
    "        for j in range(1, n + 1):\n",
    "            if (i == j): continue\n",
    "            if (hasIncoming(j, v.path)): continue\n",
    "            if (j == 1 and i == v.path[len(v.path) - 1]): continue\n",
    "            if (min > W[i][j]): min = W[i][j]\n",
    "        total += min\n",
    "    return total\n",
    "\n",
    "def length(path, W):\n",
    "    total = 0\n",
    "    prev = 1\n",
    "    for i in range(len(path)):\n",
    "        if (i != 0):\n",
    "            prev = path[i - 1]\n",
    "        total += W[prev][path[i]]\n",
    "        prev = path[i]\n",
    "    return total\n",
    "\n",
    "def hasOutgoing(v, path):\n",
    "    for i in range(0, len(path) - 1):\n",
    "        if (path[i] == v):\n",
    "            return True\n",
    "    return False\n",
    "\n",
    "def hasIncoming(v, path):\n",
    "    for i in range(1, len(path)):\n",
    "        if (path[i] == v):\n",
    "            return True\n",
    "    return False\n",
    "    \n",
    "def travel(W):\n",
    "    global minlength, opttour\n",
    "    n = len(W) - 1\n",
    "    PQ = PriorityQueue()\n",
    "    v = SSTNode(0)\n",
    "    v.path = [1]\n",
    "    v.bound = bound(v,W)\n",
    "    minlength = INF\n",
    "    PQ.put((v.bound, v))\n",
    "\n",
    "    while (not PQ.empty()):\n",
    "        v = PQ.get()[1]\n",
    "        if (v.bound < minlength):\n",
    "            for i in range(2, n + 1):\n",
    "                if (v.contains(i)):\n",
    "                    continue\n",
    "                u = SSTNode(v.level + 1)\n",
    "                u.path = v.path[:]\n",
    "                u.path.append(i)\n",
    "                if (u.level == n - 2):\n",
    "                    for k in range(2, n + 1):\n",
    "                        if (not u.contains(k)):\n",
    "                            u.path.append(k)\n",
    "\n",
    "                    u.path.append(1)\n",
    "                    if (length(u.path, W) < minlength):\n",
    "                        minlength = length(u.path, W)\n",
    "                        opttour = u.path[:]\n",
    "\n",
    "                else:\n",
    "                    u.bound = bound(u, W)\n",
    "                    if (u.bound < minlength):\n",
    "                        PQ.put((u.bound, u))"
   ]
  },
  {
   "cell_type": "code",
   "execution_count": 14,
   "metadata": {},
   "outputs": [
    {
     "name": "stdout",
     "output_type": "stream",
     "text": [
      "minlength = 23\n",
      "optimal tour = [1, 2, 3, 4, 1]\n"
     ]
    }
   ],
   "source": [
    "INF = 999\n",
    "W = [\n",
    "    [0, 14, 4, 10, 20],\n",
    "    [14, 0, 7, 8, 7],\n",
    "    [4, 5, 0, 7, 16],\n",
    "    [11, 7, 9, 0, 2],\n",
    "    [18, 7, 17, 4, 0],\n",
    "    ]\n",
    "\n",
    "minlength = INF\n",
    "opttour = None\n",
    "travel(W)\n",
    "\n",
    "print(\"minlength =\", minlength)\n",
    "\n",
    "print(\"optimal tour =\", opttour)"
   ]
  },
  {
   "cell_type": "markdown",
   "metadata": {},
   "source": [
    "### 지도위도 경도 크롤링"
   ]
  },
  {
   "cell_type": "code",
   "execution_count": 16,
   "metadata": {},
   "outputs": [
    {
     "data": {
      "text/plain": [
       "'//dapi.kakao.com/v2/maps/sdk.js?appkey=2535974bbfbd0323f76093b731c5c908&libraries=services'"
      ]
     },
     "execution_count": 16,
     "metadata": {},
     "output_type": "execute_result"
    }
   ],
   "source": [
    "'''\n",
    "key = '2535974bbfbd0323f76093b731c5c908'\n",
    "src = f'//dapi.kakao.com/v2/maps/sdk.js?appkey={key}&libraries=services'\n",
    "src\n",
    "'''"
   ]
  },
  {
   "cell_type": "code",
   "execution_count": 20,
   "metadata": {
    "scrolled": true
   },
   "outputs": [
    {
     "name": "stdout",
     "output_type": "stream",
     "text": [
      "{\"errorType\":\"AccessDeniedError\",\"message\":\"cannot find Authorization : KakaoAK header\"}\n"
     ]
    },
    {
     "name": "stderr",
     "output_type": "stream",
     "text": [
      "  % Total    % Received % Xferd  Average Speed   Time    Time     Time  Current\n",
      "                                 Dload  Upload   Total   Spent    Left  Speed\n",
      "\n",
      "  0     0    0     0    0     0      0      0 --:--:-- --:--:-- --:--:--     0*   Trying 203.217.239.16...\n",
      "* TCP_NODELAY set\n",
      "* Connected to dapi.kakao.com (203.217.239.16) port 443 (#0)\n",
      "* schannel: SSL/TLS connection with dapi.kakao.com port 443 (step 1/3)\n",
      "* schannel: checking server certificate revocation\n",
      "* schannel: sending initial handshake data: sending 179 bytes...\n",
      "* schannel: sent initial handshake data: sent 179 bytes\n",
      "* schannel: SSL/TLS connection with dapi.kakao.com port 443 (step 2/3)\n",
      "* schannel: failed to receive handshake, need more data\n",
      "* schannel: SSL/TLS connection with dapi.kakao.com port 443 (step 2/3)\n",
      "* schannel: encrypted data got 1460\n",
      "* schannel: encrypted data buffer: offset 1460 length 4096\n",
      "* schannel: encrypted data length: 1390\n",
      "* schannel: encrypted data buffer: offset 1390 length 4096\n",
      "* schannel: received incomplete message, need more data\n",
      "* schannel: SSL/TLS connection with dapi.kakao.com port 443 (step 2/3)\n",
      "* schannel: encrypted data got 1460\n",
      "* schannel: encrypted data buffer: offset 2850 length 4096\n",
      "* schannel: received incomplete message, need more data\n",
      "* schannel: SSL/TLS connection with dapi.kakao.com port 443 (step 2/3)\n",
      "* schannel: encrypted data got 1246\n",
      "* schannel: encrypted data buffer: offset 4096 length 4096\n",
      "* schannel: encrypted data length: 135\n",
      "* schannel: encrypted data buffer: offset 135 length 4096\n",
      "* schannel: received incomplete message, need more data\n",
      "* schannel: SSL/TLS connection with dapi.kakao.com port 443 (step 2/3)\n",
      "* schannel: encrypted data got 212\n",
      "* schannel: encrypted data buffer: offset 347 length 4096\n",
      "* schannel: sending next handshake data: sending 126 bytes...\n",
      "* schannel: SSL/TLS connection with dapi.kakao.com port 443 (step 2/3)\n",
      "* schannel: encrypted data got 258\n",
      "* schannel: encrypted data buffer: offset 258 length 4096\n",
      "* schannel: SSL/TLS handshake complete\n",
      "* schannel: SSL/TLS connection with dapi.kakao.com port 443 (step 3/3)\n",
      "* schannel: stored credential handle in session cache\n",
      "> GET /v2/local/search/address.json HTTP/1.1\n",
      "\n",
      "> Host: dapi.kakao.com\n",
      "\n",
      "> User-Agent: curl/7.55.1\n",
      "\n",
      "> Accept: */*\n",
      "\n",
      "> fAuthorization: KakaoAK 2535974bbfbd0323f76093b731c5c908\n",
      "\n",
      "> Content-Length: 45\n",
      "\n",
      "> Content-Type: application/x-www-form-urlencoded\n",
      "\n",
      "> \n",
      "\n",
      "} [45 bytes data]\n",
      "* upload completely sent off: 45 out of 45 bytes\n",
      "* schannel: client wants to read 102400 bytes\n",
      "* schannel: encdata_buffer resized 103424\n",
      "* schannel: encrypted data buffer: offset 0 length 103424\n",
      "* schannel: encrypted data got 532\n",
      "* schannel: encrypted data buffer: offset 532 length 103424\n",
      "* schannel: decrypted data length: 503\n",
      "* schannel: decrypted data added: 503\n",
      "* schannel: decrypted data cached: offset 503 length 102400\n",
      "* schannel: encrypted data buffer: offset 0 length 103424\n",
      "* schannel: decrypted data buffer: offset 503 length 102400\n",
      "* schannel: schannel_recv cleanup\n",
      "* schannel: decrypted data returned 503\n",
      "* schannel: decrypted data buffer: offset 0 length 102400\n",
      "< HTTP/1.1 401 Unauthorized\n",
      "\n",
      "< Server: nginx\n",
      "\n",
      "< Date: Thu, 07 Jan 2021 11:13:46 GMT\n",
      "\n",
      "< Content-Type: application/json;charset=UTF-8\n",
      "\n",
      "< Transfer-Encoding: chunked\n",
      "\n",
      "< Connection: keep-alive\n",
      "\n",
      "< X-Request-Id: 690e9220-50d9-11eb-862b-4dbf0423a029\n",
      "\n",
      "< Access-Control-Allow-Origin: *\n",
      "\n",
      "< Access-Control-Allow-Methods: GET, OPTIONS\n",
      "\n",
      "< Access-Control-Allow-Headers: Authorization, KA, Origin, X-Requested-With, Content-Type, Accept\n",
      "\n",
      "< \n",
      "\n",
      "{ [99 bytes data]\n",
      "\n",
      "100   133    0    88  100    45     88     45  0:00:01 --:--:--  0:00:01  1414\n",
      "* Connection #0 to host dapi.kakao.com left intact\n"
     ]
    }
   ],
   "source": [
    "key = '2535974bbfbd0323f76093b731c5c908'\n",
    "!curl -v -X GET \"https://dapi.kakao.com/v2/local/search/address.json\" --data-urlencode \"query=전북 삼성동 100\" -H f\"Authorization: KakaoAK {key}\""
   ]
  },
  {
   "cell_type": "code",
   "execution_count": null,
   "metadata": {},
   "outputs": [],
   "source": []
  },
  {
   "cell_type": "code",
   "execution_count": null,
   "metadata": {},
   "outputs": [],
   "source": []
  },
  {
   "cell_type": "code",
   "execution_count": null,
   "metadata": {},
   "outputs": [],
   "source": []
  }
 ],
 "metadata": {
  "kernelspec": {
   "display_name": "Python 3",
   "language": "python",
   "name": "python3"
  },
  "language_info": {
   "codemirror_mode": {
    "name": "ipython",
    "version": 3
   },
   "file_extension": ".py",
   "mimetype": "text/x-python",
   "name": "python",
   "nbconvert_exporter": "python",
   "pygments_lexer": "ipython3",
   "version": "3.7.6"
  }
 },
 "nbformat": 4,
 "nbformat_minor": 4
}
